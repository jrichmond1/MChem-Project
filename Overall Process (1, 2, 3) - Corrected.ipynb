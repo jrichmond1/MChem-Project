{
 "cells": [
  {
   "cell_type": "markdown",
   "metadata": {},
   "source": [
    "# MChem Project Programme"
   ]
  },
  {
   "cell_type": "code",
   "execution_count": 1,
   "metadata": {},
   "outputs": [
    {
     "name": "stderr",
     "output_type": "stream",
     "text": [
      "RDKit WARNING: [13:58:58] Enabling RDKit 2019.09.3 jupyter extensions\n"
     ]
    }
   ],
   "source": [
    "from rdkit import Chem\n",
    "from rdkit import RDConfig\n",
    "from rdkit.Chem.rdMolDescriptors import GetUSRCAT, GetUSRScore\n",
    "from rdkit.Chem import Descriptors, AllChem, Draw, PandasTools, rdMolAlign\n",
    "import pandas as pd\n",
    "import os\n",
    "import numpy as np\n",
    "import pubchempy as pcp #can remove this import + the one below - dont need if working with SDF!\n",
    "from pubchempy import Compound #Requires ADDITIONAL installation into TeachOpenCADD:\n",
    "#\"conda install -c mcs07 pubchempy\"\n",
    "#connects to Pubchem database (used list of pubchem ids (cids))"
   ]
  },
  {
   "cell_type": "markdown",
   "metadata": {},
   "source": [
    "### Generation of sdf file from Pubchem .csv database file (Step 1)\n",
    "\n",
    "<font color = red> If we're working with the dataset I originally generated this section is not needed - just use the SDF i sent a while back! </font>"
   ]
  },
  {
   "cell_type": "code",
   "execution_count": 2,
   "metadata": {},
   "outputs": [],
   "source": [
    "#Initial .csv input is downloaded directly from PubChem after doing an initial 2D filter \n",
    "#using Tanimoto Coefficient set at 70% - Total Compounds at this stage: 649, 166"
   ]
  },
  {
   "cell_type": "code",
   "execution_count": 3,
   "metadata": {},
   "outputs": [
    {
     "name": "stderr",
     "output_type": "stream",
     "text": [
      "/Users/jonathan/anaconda3/envs/teachopencadd/lib/python3.6/site-packages/IPython/core/interactiveshell.py:3063: DtypeWarning: Columns (2,14,17) have mixed types.Specify dtype option on import or set low_memory=False.\n",
      "  interactivity=interactivity, compiler=compiler, result=result)\n"
     ]
    },
    {
     "data": {
      "text/html": [
       "<div>\n",
       "<style scoped>\n",
       "    .dataframe tbody tr th:only-of-type {\n",
       "        vertical-align: middle;\n",
       "    }\n",
       "\n",
       "    .dataframe tbody tr th {\n",
       "        vertical-align: top;\n",
       "    }\n",
       "\n",
       "    .dataframe thead th {\n",
       "        text-align: right;\n",
       "    }\n",
       "</style>\n",
       "<table border=\"1\" class=\"dataframe\">\n",
       "  <thead>\n",
       "    <tr style=\"text-align: right;\">\n",
       "      <th></th>\n",
       "      <th>cid</th>\n",
       "      <th>cmpdname</th>\n",
       "      <th>cmpdsynonym</th>\n",
       "      <th>mw</th>\n",
       "      <th>mf</th>\n",
       "      <th>polararea</th>\n",
       "      <th>complexity</th>\n",
       "      <th>xlogp</th>\n",
       "      <th>heavycnt</th>\n",
       "      <th>hbonddonor</th>\n",
       "      <th>hbondacc</th>\n",
       "      <th>rotbonds</th>\n",
       "      <th>inchikey</th>\n",
       "      <th>iupacname</th>\n",
       "      <th>meshheadings</th>\n",
       "      <th>annothits</th>\n",
       "      <th>annothitcnt</th>\n",
       "      <th>aids</th>\n",
       "      <th>cidcdate</th>\n",
       "      <th>dois</th>\n",
       "    </tr>\n",
       "  </thead>\n",
       "  <tbody>\n",
       "    <tr>\n",
       "      <th>0</th>\n",
       "      <td>801</td>\n",
       "      <td>1H-Indol-3-ylacetate</td>\n",
       "      <td>3-indoleacetate|1H-indol-3-ylacetate|auxin|3-I...</td>\n",
       "      <td>174.18</td>\n",
       "      <td>C10H8NO2-</td>\n",
       "      <td>55.9</td>\n",
       "      <td>200.0</td>\n",
       "      <td>2.1</td>\n",
       "      <td>13</td>\n",
       "      <td>1</td>\n",
       "      <td>2</td>\n",
       "      <td>1</td>\n",
       "      <td>SEOVTRFCIGRIMH-UHFFFAOYSA-M</td>\n",
       "      <td>2-(1H-indol-3-yl)acetate</td>\n",
       "      <td>Indoleacetic Acids</td>\n",
       "      <td>3862.0</td>\n",
       "      <td>7.0</td>\n",
       "      <td>1347041</td>\n",
       "      <td>20040916</td>\n",
       "      <td>/s0716-97602008000200010|/s0716-97602009000400...</td>\n",
       "    </tr>\n",
       "    <tr>\n",
       "      <th>1</th>\n",
       "      <td>802</td>\n",
       "      <td>Indole-3-acetic acid</td>\n",
       "      <td>indole-3-acetic acid|87-51-4|3-Indoleacetic ac...</td>\n",
       "      <td>175.18</td>\n",
       "      <td>C10H9NO2</td>\n",
       "      <td>53.1</td>\n",
       "      <td>205.0</td>\n",
       "      <td>1.4</td>\n",
       "      <td>13</td>\n",
       "      <td>2</td>\n",
       "      <td>2</td>\n",
       "      <td>2</td>\n",
       "      <td>SEOVTRFCIGRIMH-UHFFFAOYSA-N</td>\n",
       "      <td>2-(1H-indol-3-yl)acetic acid</td>\n",
       "      <td>NaN</td>\n",
       "      <td>130879.0</td>\n",
       "      <td>15.0</td>\n",
       "      <td>155,157,161,165,167,175,330,342,422,608,811,83...</td>\n",
       "      <td>20040916</td>\n",
       "      <td>/s0716-97602010000100011|10.1001/archpsyc.1959...</td>\n",
       "    </tr>\n",
       "    <tr>\n",
       "      <th>2</th>\n",
       "      <td>1024</td>\n",
       "      <td>Pyrroloquinoline quinone</td>\n",
       "      <td>methoxatin|pyrroloquinoline quinone|72909-34-3...</td>\n",
       "      <td>330.21</td>\n",
       "      <td>C14H6N2O8</td>\n",
       "      <td>175.0</td>\n",
       "      <td>647.0</td>\n",
       "      <td>NaN</td>\n",
       "      <td>24</td>\n",
       "      <td>4</td>\n",
       "      <td>9</td>\n",
       "      <td>3</td>\n",
       "      <td>MMXZSJMASHPLLR-UHFFFAOYSA-N</td>\n",
       "      <td>4,5-dioxo-1H-pyrrolo[2,3-f]quinoline-2,7,9-tri...</td>\n",
       "      <td>PQQ Cofactor</td>\n",
       "      <td>53086.0</td>\n",
       "      <td>11.0</td>\n",
       "      <td>1156932,1156933,1156934,1156936</td>\n",
       "      <td>20040916</td>\n",
       "      <td>10.1002/1521-3765(20020916)8:18&amp;lt;4138::aid-c...</td>\n",
       "    </tr>\n",
       "    <tr>\n",
       "      <th>3</th>\n",
       "      <td>1372</td>\n",
       "      <td>1-Benzyl-5-methoxy-2-methyl-1h-indol-3-yl)-ace...</td>\n",
       "      <td>CHEMBL148756|1-benzyl-5-methoxy-2-methyl-1h-in...</td>\n",
       "      <td>309.40</td>\n",
       "      <td>C19H19NO3</td>\n",
       "      <td>51.5</td>\n",
       "      <td>407.0</td>\n",
       "      <td>3.7</td>\n",
       "      <td>23</td>\n",
       "      <td>1</td>\n",
       "      <td>3</td>\n",
       "      <td>5</td>\n",
       "      <td>ZEKCBTQHDTUHRJ-UHFFFAOYSA-N</td>\n",
       "      <td>2-(1-benzyl-5-methoxy-2-methylindol-3-yl)aceti...</td>\n",
       "      <td>NaN</td>\n",
       "      <td>34582.0</td>\n",
       "      <td>7.0</td>\n",
       "      <td>155,157,161,165,167,175,158929,228955</td>\n",
       "      <td>20050325</td>\n",
       "      <td>10.1007/BF00523961|10.1007/s00894-012-1741-4|1...</td>\n",
       "    </tr>\n",
       "    <tr>\n",
       "      <th>4</th>\n",
       "      <td>1543</td>\n",
       "      <td>Brequinar analog</td>\n",
       "      <td>BREQUINAR ANALOG|CHEMBL220467|2-biphenyl-4-yl-...</td>\n",
       "      <td>357.40</td>\n",
       "      <td>C23H16FNO2</td>\n",
       "      <td>50.2</td>\n",
       "      <td>513.0</td>\n",
       "      <td>NaN</td>\n",
       "      <td>27</td>\n",
       "      <td>1</td>\n",
       "      <td>4</td>\n",
       "      <td>3</td>\n",
       "      <td>WYKKHJQZENLZID-UHFFFAOYSA-N</td>\n",
       "      <td>6-fluoro-3-methyl-2-(4-phenylphenyl)quinoline-...</td>\n",
       "      <td>NaN</td>\n",
       "      <td>100118.0</td>\n",
       "      <td>8.0</td>\n",
       "      <td>275258</td>\n",
       "      <td>20050325</td>\n",
       "      <td>10.1021/jm0602256|10.1023/A:1015930826903</td>\n",
       "    </tr>\n",
       "    <tr>\n",
       "      <th>...</th>\n",
       "      <td>...</td>\n",
       "      <td>...</td>\n",
       "      <td>...</td>\n",
       "      <td>...</td>\n",
       "      <td>...</td>\n",
       "      <td>...</td>\n",
       "      <td>...</td>\n",
       "      <td>...</td>\n",
       "      <td>...</td>\n",
       "      <td>...</td>\n",
       "      <td>...</td>\n",
       "      <td>...</td>\n",
       "      <td>...</td>\n",
       "      <td>...</td>\n",
       "      <td>...</td>\n",
       "      <td>...</td>\n",
       "      <td>...</td>\n",
       "      <td>...</td>\n",
       "      <td>...</td>\n",
       "      <td>...</td>\n",
       "    </tr>\n",
       "    <tr>\n",
       "      <th>648577</th>\n",
       "      <td>145944634</td>\n",
       "      <td>NaN</td>\n",
       "      <td>NaN</td>\n",
       "      <td>243.23</td>\n",
       "      <td>C14H10FNO2</td>\n",
       "      <td>47.0</td>\n",
       "      <td>311.0</td>\n",
       "      <td>1.8</td>\n",
       "      <td>18</td>\n",
       "      <td>0</td>\n",
       "      <td>4</td>\n",
       "      <td>4</td>\n",
       "      <td>XHHYRPDZLNJJFW-UHFFFAOYSA-N</td>\n",
       "      <td>1-(4-fluorophenyl)-3-pyridin-2-ylpropane-1,3-d...</td>\n",
       "      <td>NaN</td>\n",
       "      <td>NaN</td>\n",
       "      <td>NaN</td>\n",
       "      <td>NaN</td>\n",
       "      <td>20200302</td>\n",
       "      <td>NaN</td>\n",
       "    </tr>\n",
       "    <tr>\n",
       "      <th>648578</th>\n",
       "      <td>145944657</td>\n",
       "      <td>NaN</td>\n",
       "      <td>NaN</td>\n",
       "      <td>193.24</td>\n",
       "      <td>C11H15NO2</td>\n",
       "      <td>39.2</td>\n",
       "      <td>192.0</td>\n",
       "      <td>NaN</td>\n",
       "      <td>14</td>\n",
       "      <td>0</td>\n",
       "      <td>3</td>\n",
       "      <td>4</td>\n",
       "      <td>NWALSGSGQJFDQW-UHFFFAOYSA-N</td>\n",
       "      <td>methyl 2-(2-methylpropyl)pyridine-3-carboxylate</td>\n",
       "      <td>NaN</td>\n",
       "      <td>NaN</td>\n",
       "      <td>NaN</td>\n",
       "      <td>NaN</td>\n",
       "      <td>20200302</td>\n",
       "      <td>NaN</td>\n",
       "    </tr>\n",
       "    <tr>\n",
       "      <th>648579</th>\n",
       "      <td>145944836</td>\n",
       "      <td>NaN</td>\n",
       "      <td>NaN</td>\n",
       "      <td>353.80</td>\n",
       "      <td>C21H20ClNO2</td>\n",
       "      <td>30.2</td>\n",
       "      <td>385.0</td>\n",
       "      <td>NaN</td>\n",
       "      <td>25</td>\n",
       "      <td>0</td>\n",
       "      <td>3</td>\n",
       "      <td>6</td>\n",
       "      <td>SFBHVYWZWRWWQY-UHFFFAOYSA-M</td>\n",
       "      <td>benzyl 1-benzyl-6-methylpyridin-1-ium-3-carbox...</td>\n",
       "      <td>NaN</td>\n",
       "      <td>NaN</td>\n",
       "      <td>NaN</td>\n",
       "      <td>NaN</td>\n",
       "      <td>20200302</td>\n",
       "      <td>NaN</td>\n",
       "    </tr>\n",
       "    <tr>\n",
       "      <th>648580</th>\n",
       "      <td>145944837</td>\n",
       "      <td>NaN</td>\n",
       "      <td>NaN</td>\n",
       "      <td>318.40</td>\n",
       "      <td>C21H20NO2+</td>\n",
       "      <td>30.2</td>\n",
       "      <td>385.0</td>\n",
       "      <td>NaN</td>\n",
       "      <td>24</td>\n",
       "      <td>0</td>\n",
       "      <td>2</td>\n",
       "      <td>6</td>\n",
       "      <td>DDXKIXLBXHIXQP-UHFFFAOYSA-N</td>\n",
       "      <td>benzyl 1-benzyl-6-methylpyridin-1-ium-3-carbox...</td>\n",
       "      <td>NaN</td>\n",
       "      <td>NaN</td>\n",
       "      <td>NaN</td>\n",
       "      <td>NaN</td>\n",
       "      <td>20200302</td>\n",
       "      <td>NaN</td>\n",
       "    </tr>\n",
       "    <tr>\n",
       "      <th>648581</th>\n",
       "      <td>145944878</td>\n",
       "      <td>NaN</td>\n",
       "      <td>NaN</td>\n",
       "      <td>527.50</td>\n",
       "      <td>C29H21NO9</td>\n",
       "      <td>175.0</td>\n",
       "      <td>951.0</td>\n",
       "      <td>NaN</td>\n",
       "      <td>39</td>\n",
       "      <td>5</td>\n",
       "      <td>10</td>\n",
       "      <td>8</td>\n",
       "      <td>WJWQELLCUATNHF-ZVSIBQGLSA-N</td>\n",
       "      <td>2,3-bis[(E)-3-(3,4-dihydroxyphenyl)prop-2-enoy...</td>\n",
       "      <td>NaN</td>\n",
       "      <td>NaN</td>\n",
       "      <td>NaN</td>\n",
       "      <td>NaN</td>\n",
       "      <td>20200302</td>\n",
       "      <td>NaN</td>\n",
       "    </tr>\n",
       "  </tbody>\n",
       "</table>\n",
       "<p>648582 rows × 20 columns</p>\n",
       "</div>"
      ],
      "text/plain": [
       "              cid                                           cmpdname  \\\n",
       "0             801                               1H-Indol-3-ylacetate   \n",
       "1             802                               Indole-3-acetic acid   \n",
       "2            1024                           Pyrroloquinoline quinone   \n",
       "3            1372  1-Benzyl-5-methoxy-2-methyl-1h-indol-3-yl)-ace...   \n",
       "4            1543                                   Brequinar analog   \n",
       "...           ...                                                ...   \n",
       "648577  145944634                                                NaN   \n",
       "648578  145944657                                                NaN   \n",
       "648579  145944836                                                NaN   \n",
       "648580  145944837                                                NaN   \n",
       "648581  145944878                                                NaN   \n",
       "\n",
       "                                              cmpdsynonym      mw  \\\n",
       "0       3-indoleacetate|1H-indol-3-ylacetate|auxin|3-I...  174.18   \n",
       "1       indole-3-acetic acid|87-51-4|3-Indoleacetic ac...  175.18   \n",
       "2       methoxatin|pyrroloquinoline quinone|72909-34-3...  330.21   \n",
       "3       CHEMBL148756|1-benzyl-5-methoxy-2-methyl-1h-in...  309.40   \n",
       "4       BREQUINAR ANALOG|CHEMBL220467|2-biphenyl-4-yl-...  357.40   \n",
       "...                                                   ...     ...   \n",
       "648577                                                NaN  243.23   \n",
       "648578                                                NaN  193.24   \n",
       "648579                                                NaN  353.80   \n",
       "648580                                                NaN  318.40   \n",
       "648581                                                NaN  527.50   \n",
       "\n",
       "                 mf  polararea  complexity  xlogp  heavycnt  hbonddonor  \\\n",
       "0         C10H8NO2-       55.9       200.0    2.1        13           1   \n",
       "1          C10H9NO2       53.1       205.0    1.4        13           2   \n",
       "2         C14H6N2O8      175.0       647.0    NaN        24           4   \n",
       "3         C19H19NO3       51.5       407.0    3.7        23           1   \n",
       "4        C23H16FNO2       50.2       513.0    NaN        27           1   \n",
       "...             ...        ...         ...    ...       ...         ...   \n",
       "648577   C14H10FNO2       47.0       311.0    1.8        18           0   \n",
       "648578    C11H15NO2       39.2       192.0    NaN        14           0   \n",
       "648579  C21H20ClNO2       30.2       385.0    NaN        25           0   \n",
       "648580   C21H20NO2+       30.2       385.0    NaN        24           0   \n",
       "648581    C29H21NO9      175.0       951.0    NaN        39           5   \n",
       "\n",
       "        hbondacc  rotbonds                     inchikey  \\\n",
       "0              2         1  SEOVTRFCIGRIMH-UHFFFAOYSA-M   \n",
       "1              2         2  SEOVTRFCIGRIMH-UHFFFAOYSA-N   \n",
       "2              9         3  MMXZSJMASHPLLR-UHFFFAOYSA-N   \n",
       "3              3         5  ZEKCBTQHDTUHRJ-UHFFFAOYSA-N   \n",
       "4              4         3  WYKKHJQZENLZID-UHFFFAOYSA-N   \n",
       "...          ...       ...                          ...   \n",
       "648577         4         4  XHHYRPDZLNJJFW-UHFFFAOYSA-N   \n",
       "648578         3         4  NWALSGSGQJFDQW-UHFFFAOYSA-N   \n",
       "648579         3         6  SFBHVYWZWRWWQY-UHFFFAOYSA-M   \n",
       "648580         2         6  DDXKIXLBXHIXQP-UHFFFAOYSA-N   \n",
       "648581        10         8  WJWQELLCUATNHF-ZVSIBQGLSA-N   \n",
       "\n",
       "                                                iupacname        meshheadings  \\\n",
       "0                                2-(1H-indol-3-yl)acetate  Indoleacetic Acids   \n",
       "1                            2-(1H-indol-3-yl)acetic acid                 NaN   \n",
       "2       4,5-dioxo-1H-pyrrolo[2,3-f]quinoline-2,7,9-tri...        PQQ Cofactor   \n",
       "3       2-(1-benzyl-5-methoxy-2-methylindol-3-yl)aceti...                 NaN   \n",
       "4       6-fluoro-3-methyl-2-(4-phenylphenyl)quinoline-...                 NaN   \n",
       "...                                                   ...                 ...   \n",
       "648577  1-(4-fluorophenyl)-3-pyridin-2-ylpropane-1,3-d...                 NaN   \n",
       "648578    methyl 2-(2-methylpropyl)pyridine-3-carboxylate                 NaN   \n",
       "648579  benzyl 1-benzyl-6-methylpyridin-1-ium-3-carbox...                 NaN   \n",
       "648580  benzyl 1-benzyl-6-methylpyridin-1-ium-3-carbox...                 NaN   \n",
       "648581  2,3-bis[(E)-3-(3,4-dihydroxyphenyl)prop-2-enoy...                 NaN   \n",
       "\n",
       "        annothits  annothitcnt  \\\n",
       "0          3862.0          7.0   \n",
       "1        130879.0         15.0   \n",
       "2         53086.0         11.0   \n",
       "3         34582.0          7.0   \n",
       "4        100118.0          8.0   \n",
       "...           ...          ...   \n",
       "648577        NaN          NaN   \n",
       "648578        NaN          NaN   \n",
       "648579        NaN          NaN   \n",
       "648580        NaN          NaN   \n",
       "648581        NaN          NaN   \n",
       "\n",
       "                                                     aids  cidcdate  \\\n",
       "0                                                 1347041  20040916   \n",
       "1       155,157,161,165,167,175,330,342,422,608,811,83...  20040916   \n",
       "2                         1156932,1156933,1156934,1156936  20040916   \n",
       "3                   155,157,161,165,167,175,158929,228955  20050325   \n",
       "4                                                  275258  20050325   \n",
       "...                                                   ...       ...   \n",
       "648577                                                NaN  20200302   \n",
       "648578                                                NaN  20200302   \n",
       "648579                                                NaN  20200302   \n",
       "648580                                                NaN  20200302   \n",
       "648581                                                NaN  20200302   \n",
       "\n",
       "                                                     dois  \n",
       "0       /s0716-97602008000200010|/s0716-97602009000400...  \n",
       "1       /s0716-97602010000100011|10.1001/archpsyc.1959...  \n",
       "2       10.1002/1521-3765(20020916)8:18&lt;4138::aid-c...  \n",
       "3       10.1007/BF00523961|10.1007/s00894-012-1741-4|1...  \n",
       "4               10.1021/jm0602256|10.1023/A:1015930826903  \n",
       "...                                                   ...  \n",
       "648577                                                NaN  \n",
       "648578                                                NaN  \n",
       "648579                                                NaN  \n",
       "648580                                                NaN  \n",
       "648581                                                NaN  \n",
       "\n",
       "[648582 rows x 20 columns]"
      ]
     },
     "execution_count": 3,
     "metadata": {},
     "output_type": "execute_result"
    }
   ],
   "source": [
    "data = pd.read_csv(\"PubChem_2D_Filtered_Database.csv\") #read in csv to df\n",
    "data"
   ]
  },
  {
   "cell_type": "code",
   "execution_count": 4,
   "metadata": {},
   "outputs": [],
   "source": [
    "cids = list(data['cid']) #Create list of PubChem IDs"
   ]
  },
  {
   "cell_type": "code",
   "execution_count": null,
   "metadata": {},
   "outputs": [],
   "source": [
    "smiles = [] #Get SMILEs from PubChem using PubChem ID\n",
    "for cid in cids:\n",
    "    c = Compound.from_cid(cid)\n",
    "    record = Compound.to_series(c)\n",
    "    smiles.append(record['canonical_smiles'])\n",
    "    \n",
    "#cid -> SMILEs -> SDF (RDKit)"
   ]
  },
  {
   "cell_type": "code",
   "execution_count": null,
   "metadata": {},
   "outputs": [],
   "source": [
    "mol_list = [Chem.MolFromSmiles(smile) for smile in smiles] #Generate 2D mols from SMILEs\n",
    "\n",
    "for mol in mol_list:\n",
    "    AllChem.EmbedMolecule(mol) #Generate 3D Co-ordinates"
   ]
  },
  {
   "cell_type": "code",
   "execution_count": null,
   "metadata": {},
   "outputs": [],
   "source": [
    "initialset = pd.DataFrame()\n",
    "initialset['CID'] = cids\n",
    "initialset['smiles'] = smiles\n",
    "initialset['Mol'] = mol_list"
   ]
  },
  {
   "cell_type": "code",
   "execution_count": null,
   "metadata": {},
   "outputs": [],
   "source": [
    "#Save structures to SDF\n",
    "PandasTools.WriteSDF(testset, 'PubChem_2D_Filtered_Database.sdf', molColName='Mol', idName='CID', properties=None, allNumeric=False)"
   ]
  },
  {
   "cell_type": "code",
   "execution_count": null,
   "metadata": {},
   "outputs": [],
   "source": [
    "initialset"
   ]
  },
  {
   "cell_type": "code",
   "execution_count": null,
   "metadata": {},
   "outputs": [],
   "source": [
    "initialset = PandasTools.LoadSDF('PubChem_2D_Filtered_Database.sdf')"
   ]
  },
  {
   "cell_type": "code",
   "execution_count": null,
   "metadata": {},
   "outputs": [],
   "source": [
    "initialset"
   ]
  },
  {
   "cell_type": "markdown",
   "metadata": {},
   "source": [
    "### GetUSRCAT for .sdf provided (Step 2)"
   ]
  },
  {
   "cell_type": "markdown",
   "metadata": {},
   "source": [
    "<font color = red> the two boxes directly underneath this are doing the same thing! The first of the two boxes does this absolutely fine and in a more efficient way (shown by the moltomolblock print) - you can remove the second box! </font>"
   ]
  },
  {
   "cell_type": "code",
   "execution_count": null,
   "metadata": {},
   "outputs": [],
   "source": [
    "#keep\n",
    "QK9mols = Chem.SDMolSupplier('9QK_Ideal.sdf')\n",
    "m1 = QK9mols[0]"
   ]
  },
  {
   "cell_type": "code",
   "execution_count": null,
   "metadata": {},
   "outputs": [],
   "source": [
    "## the above box loads the query molecule - you do not need the box below!!\n",
    "print(Chem.MolToMolBlock(m1))"
   ]
  },
  {
   "cell_type": "code",
   "execution_count": null,
   "metadata": {},
   "outputs": [],
   "source": [
    "m0_3D = Chem.AddHs(m1) #you're actually using m1 anyway not the Querydf!!\n",
    "AllChem.EmbedMolecule(m0_3D)\n",
    "AllChem.UFFOptimizeMolecule(m0_3D) # Improves the quality of the conformation; this step should not be necessary since v2018.09: default conformations use ETKDG\n",
    "Draw.MolToImage(m0_3D)"
   ]
  },
  {
   "cell_type": "code",
   "execution_count": null,
   "metadata": {},
   "outputs": [],
   "source": [
    "m0_mom = GetUSRCAT(m0_3D)"
   ]
  },
  {
   "cell_type": "markdown",
   "metadata": {},
   "source": [
    "<font color = red> As long as the \"PubChem_2D_Filtered_Database.sdf is in the same folder as this notebook on your laptop the single line of code below loads the dataframe - again the second box is not needed! Instead add two lines of code (which i have done): (1) fulldf (displays the dataframe) (2) mols = list(fulldf['ROMol']) generates a list of molecules from the dataframe, allowing you to generate the USRCAT moments <font/>"
   ]
  },
  {
   "cell_type": "code",
   "execution_count": null,
   "metadata": {},
   "outputs": [],
   "source": [
    "#sdfFile = os.path.join(RDConfig.RDDataDir,'Filtered_Data.sdf') \n",
    "fulldf = PandasTools.LoadSDF('PubChem_2D_Filtered_Database.sdf')\n",
    "\n",
    "fulldf\n",
    "\n",
    "#the .sdf file must be the in following directory to be referenced correctly:\n",
    "#\"/Users/[your profile]/anaconda3/envs/teachopencadd/share/RDKit/Data/Filtered_Data.sdf\""
   ]
  },
  {
   "cell_type": "code",
   "execution_count": null,
   "metadata": {},
   "outputs": [],
   "source": [
    "#takes the ROMol column of the df and makes a list which can be used to \n",
    "mols = list(fulldf['ROMol'])"
   ]
  },
  {
   "cell_type": "code",
   "execution_count": null,
   "metadata": {},
   "outputs": [],
   "source": [
    "USRCAT_Mom = []\n",
    "for i in range(len(mols)):\n",
    "    mom = GetUSRCAT(mols[i])\n",
    "    USRCAT_Mom.append(mom)"
   ]
  },
  {
   "cell_type": "code",
   "execution_count": null,
   "metadata": {},
   "outputs": [],
   "source": [
    "USRCAT_Score = []\n",
    "for i in range(len(USRCAT_Mom)):\n",
    "    Score = GetUSRScore(m0_mom, USRCAT_Mom[i])\n",
    "    USRCAT_Score.append(Score)"
   ]
  },
  {
   "cell_type": "code",
   "execution_count": null,
   "metadata": {},
   "outputs": [],
   "source": [
    "fulldf['USRCAT_Mom'] = USRCAT_Mom "
   ]
  },
  {
   "cell_type": "code",
   "execution_count": null,
   "metadata": {},
   "outputs": [],
   "source": [
    "fulldf['USRCAT_Score'] = USRCAT_Score"
   ]
  },
  {
   "cell_type": "code",
   "execution_count": null,
   "metadata": {},
   "outputs": [],
   "source": [
    "fulldf"
   ]
  },
  {
   "cell_type": "code",
   "execution_count": null,
   "metadata": {},
   "outputs": [],
   "source": [
    "fulldf = fulldf.sort_values('USRCAT_Score', ascending=False)"
   ]
  },
  {
   "cell_type": "code",
   "execution_count": null,
   "metadata": {},
   "outputs": [],
   "source": [
    "fulldf = fulldf.reset_index(drop = True)\n",
    "#resets the index so the dataframe is updated with high-to-low values of USRCAT_Score, 0 being the highest and 9 the lowest."
   ]
  },
  {
   "cell_type": "code",
   "execution_count": null,
   "metadata": {},
   "outputs": [],
   "source": [
    "fulldf"
   ]
  },
  {
   "cell_type": "markdown",
   "metadata": {},
   "source": [
    "<font color = red> add the following 2 steps to create a new sdf containing the top 5 results from our USRCAT similarity comparison: (1) subdf = fulldf[0:5] creates a new dataframe which contains a subset of fulldf (2) add a line of code to write the new dataframe to a sdf (hint: you have a line which does this in section 1 - just be careful when changing the variables it takes in, make sure you use subdf!) <font/>"
   ]
  },
  {
   "cell_type": "code",
   "execution_count": null,
   "metadata": {},
   "outputs": [],
   "source": [
    "subdf = fulldf[0:5]"
   ]
  },
  {
   "cell_type": "markdown",
   "metadata": {},
   "source": [
    "### Alignment of Co-Ordinates of Query Molecule for OpenMM studies (Step 3)"
   ]
  },
  {
   "cell_type": "markdown",
   "metadata": {},
   "source": [
    "<font color = red> don't need to load the query molecule again here - we've done this above already (named m1 - just refer to this!) for this section to work, need a list with the query in position 0 and our 5 top results appended after. I would however use the Chem.SDMolSupplier method to load the 5 molecules here as you have already done, we don't need a dataframe! make sure you change the name of the file here - at the moment this is loading all 3000+ molecules!! <font/>"
   ]
  },
  {
   "cell_type": "code",
   "execution_count": null,
   "metadata": {},
   "outputs": [],
   "source": [
    "#keep\n",
    "mols = []\n",
    "mols.append(m1)"
   ]
  },
  {
   "cell_type": "code",
   "execution_count": null,
   "metadata": {},
   "outputs": [],
   "source": [
    "print(Chem.MolToMolBlock(mols[0]))"
   ]
  },
  {
   "cell_type": "code",
   "execution_count": null,
   "metadata": {},
   "outputs": [],
   "source": [
    "#keep - but make sure to change the filename to whatever SDF you write the top 5 to!\n",
    "suppl = Chem.SDMolSupplier('PubChem_2D_Filtered_Database.sdf')\n",
    "for mol in suppl:\n",
    "    mols.append(mol) #good - this appends to the end of our mols list\n",
    "    \n",
    "    #SDF of the query molecule (for molecular alignment you want a list of molecules with a \n",
    "    #Query in first poisiton and the rest 1 -> n)\n"
   ]
  },
  {
   "cell_type": "markdown",
   "metadata": {},
   "source": [
    "<font color = red> Everything from here down is fine! the print of the molblock between pdb files is nice but not 100% needed - can remove to tidy up if you want! <font/>"
   ]
  },
  {
   "cell_type": "code",
   "execution_count": null,
   "metadata": {},
   "outputs": [],
   "source": [
    "for probeMol in mols[1:]:\n",
    "    print(Chem.MolToMolBlock(probeMol))"
   ]
  },
  {
   "cell_type": "code",
   "execution_count": null,
   "metadata": {},
   "outputs": [],
   "source": [
    "Draw.MolsToGridImage(mols, molsPerRow=3, subImgSize=(200, 200), legends=None, highlightAtomLists=None, highlightBondLists=None, useSVG=False)"
   ]
  },
  {
   "cell_type": "code",
   "execution_count": null,
   "metadata": {},
   "outputs": [],
   "source": [
    "#This is the section which calculates the alignment\n",
    "refMol = mols[0] #We would set this to the ligand already bound to the protein (query)\n",
    "score_list = []\n",
    "for probeMol in mols[1:]:\n",
    "    pyO3A = rdMolAlign.GetO3A(probeMol, refMol)\n",
    "    score = pyO3A.Align()\n",
    "    score_list.append(score)\n",
    "print(score_list)"
   ]
  },
  {
   "cell_type": "code",
   "execution_count": null,
   "metadata": {},
   "outputs": [],
   "source": [
    "Draw.MolsToGridImage(mols, molsPerRow=3, subImgSize=(200, 200), legends=None, highlightAtomLists=None, highlightBondLists=None, useSVG=False)\n",
    "\n",
    "#Printed twice to show that the coordinates have changed and the alignment has worked correctly."
   ]
  },
  {
   "cell_type": "code",
   "execution_count": null,
   "metadata": {},
   "outputs": [],
   "source": [
    "for probeMol in mols[1:]:\n",
    "    print(Chem.MolToMolBlock(probeMol))"
   ]
  },
  {
   "cell_type": "code",
   "execution_count": null,
   "metadata": {},
   "outputs": [],
   "source": [
    "fin = open(\"5OBJ-1.pdb\", \"w\")\n",
    "    probeMol = mols[1]\n",
    "    pdbblock = Chem.MolToPDBBlock(probeMol)\n",
    "    fin.write(pdbblock)\n",
    "fin.close()"
   ]
  },
  {
   "cell_type": "code",
   "execution_count": null,
   "metadata": {},
   "outputs": [],
   "source": [
    "#the prints inbetween are nice but not neccessary - can remove if you want!\n",
    "for probeMol in mols[2:]:\n",
    "    print(Chem.MolToMolBlock(probeMol))"
   ]
  },
  {
   "cell_type": "code",
   "execution_count": null,
   "metadata": {},
   "outputs": [],
   "source": [
    "fin = open(\"5OBJ-2.pdb\", \"w\")\n",
    "    probeMol = mols[2]\n",
    "    pdbblock = Chem.MolToPDBBlock(probeMol)\n",
    "    fin.write(pdbblock)\n",
    "fin.close()"
   ]
  },
  {
   "cell_type": "code",
   "execution_count": null,
   "metadata": {},
   "outputs": [],
   "source": [
    "for probeMol in mols[3:]:\n",
    "    print(Chem.MolToMolBlock(probeMol))"
   ]
  },
  {
   "cell_type": "code",
   "execution_count": null,
   "metadata": {},
   "outputs": [],
   "source": [
    "fin = open(\"5OBJ-3.pdb\", \"w\")\n",
    "    probeMol = mols[3]\n",
    "    pdbblock = Chem.MolToPDBBlock(probeMol)\n",
    "    fin.write(pdbblock)\n",
    "fin.close()"
   ]
  },
  {
   "cell_type": "code",
   "execution_count": null,
   "metadata": {},
   "outputs": [],
   "source": [
    "for probeMol in mols[4:]:\n",
    "    print(Chem.MolToMolBlock(probeMol))"
   ]
  },
  {
   "cell_type": "code",
   "execution_count": null,
   "metadata": {},
   "outputs": [],
   "source": [
    "fin = open(\"5OBJ-4.pdb\", \"w\")\n",
    "    probeMol = mols[4]\n",
    "    pdbblock = Chem.MolToPDBBlock(probeMol)\n",
    "    fin.write(pdbblock)\n",
    "fin.close()"
   ]
  },
  {
   "cell_type": "code",
   "execution_count": null,
   "metadata": {},
   "outputs": [],
   "source": [
    "for probeMol in mols[5:]:\n",
    "    print(Chem.MolToMolBlock(probeMol))"
   ]
  },
  {
   "cell_type": "code",
   "execution_count": null,
   "metadata": {},
   "outputs": [],
   "source": [
    "fin = open(\"5OBJ-5.pdb\", \"w\")\n",
    "    probeMol = mols[5]\n",
    "    pdbblock = Chem.MolToPDBBlock(probeMol)\n",
    "    fin.write(pdbblock)\n",
    "fin.close()"
   ]
  }
 ],
 "metadata": {
  "kernelspec": {
   "display_name": "Python 3",
   "language": "python",
   "name": "python3"
  },
  "language_info": {
   "codemirror_mode": {
    "name": "ipython",
    "version": 3
   },
   "file_extension": ".py",
   "mimetype": "text/x-python",
   "name": "python",
   "nbconvert_exporter": "python",
   "pygments_lexer": "ipython3",
   "version": "3.6.10"
  }
 },
 "nbformat": 4,
 "nbformat_minor": 4
}
